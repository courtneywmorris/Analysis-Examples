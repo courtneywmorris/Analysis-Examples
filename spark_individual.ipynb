{
 "cells": [
  {
   "cell_type": "code",
   "execution_count": 15,
   "metadata": {
    "collapsed": true
   },
   "outputs": [],
   "source": [
    "import pyspark as ps\n",
    "import json"
   ]
  },
  {
   "cell_type": "code",
   "execution_count": 3,
   "metadata": {
    "collapsed": false
   },
   "outputs": [],
   "source": [
    "# Uses all 4 cores on your machine\n",
    "sc = ps.SparkContext('local[4]')"
   ]
  },
  {
   "cell_type": "code",
   "execution_count": 4,
   "metadata": {
    "collapsed": true
   },
   "outputs": [],
   "source": [
    "lst_rdd = sc.parallelize([1, 2, 3])"
   ]
  },
  {
   "cell_type": "code",
   "execution_count": 5,
   "metadata": {
    "collapsed": true
   },
   "outputs": [],
   "source": [
    "file_rdd = sc.textFile('data/cookie_data.txt').cache()"
   ]
  },
  {
   "cell_type": "code",
   "execution_count": 6,
   "metadata": {
    "collapsed": false
   },
   "outputs": [
    {
     "data": {
      "text/plain": [
       "u'{\"Jane\": \"2\"}'"
      ]
     },
     "execution_count": 6,
     "metadata": {},
     "output_type": "execute_result"
    }
   ],
   "source": [
    "file_rdd.first()"
   ]
  },
  {
   "cell_type": "code",
   "execution_count": 7,
   "metadata": {
    "collapsed": false
   },
   "outputs": [
    {
     "data": {
      "text/plain": [
       "[u'{\"Jane\": \"2\"}', u'{\"Jane\": \"1\"}']"
      ]
     },
     "execution_count": 7,
     "metadata": {},
     "output_type": "execute_result"
    }
   ],
   "source": [
    "file_rdd.take(2)"
   ]
  },
  {
   "cell_type": "code",
   "execution_count": 8,
   "metadata": {
    "collapsed": false
   },
   "outputs": [
    {
     "data": {
      "text/plain": [
       "[u'{\"Jane\": \"2\"}',\n",
       " u'{\"Jane\": \"1\"}',\n",
       " u'{\"Pete\": \"20\"}',\n",
       " u'{\"Tyler\": \"3\"}',\n",
       " u'{\"Duncan\": \"4\"}',\n",
       " u'{\"Yuki\": \"5\"}',\n",
       " u'{\"Duncan\": \"6\"}',\n",
       " u'{\"Duncan\": \"4\"}',\n",
       " u'{\"Duncan\": \"5\"}']"
      ]
     },
     "execution_count": 8,
     "metadata": {},
     "output_type": "execute_result"
    }
   ],
   "source": [
    "file_rdd.collect()"
   ]
  },
  {
   "cell_type": "code",
   "execution_count": 9,
   "metadata": {
    "collapsed": false
   },
   "outputs": [
    {
     "data": {
      "text/plain": [
       "[1, 2, 3]"
      ]
     },
     "execution_count": 9,
     "metadata": {},
     "output_type": "execute_result"
    }
   ],
   "source": [
    "lst_rdd.collect()"
   ]
  },
  {
   "cell_type": "code",
   "execution_count": 23,
   "metadata": {
    "collapsed": false
   },
   "outputs": [
    {
     "data": {
      "text/plain": [
       "[{u'Jane': u'2'},\n",
       " {u'Jane': u'1'},\n",
       " {u'Pete': u'20'},\n",
       " {u'Tyler': u'3'},\n",
       " {u'Duncan': u'4'},\n",
       " {u'Yuki': u'5'},\n",
       " {u'Duncan': u'6'},\n",
       " {u'Duncan': u'4'},\n",
       " {u'Duncan': u'5'}]"
      ]
     },
     "execution_count": 23,
     "metadata": {},
     "output_type": "execute_result"
    }
   ],
   "source": [
    "file_rdd\\\n",
    "    .map(lambda x: json.loads(x))\\\n",
    "    .collect()"
   ]
  },
  {
   "cell_type": "code",
   "execution_count": 33,
   "metadata": {
    "collapsed": false
   },
   "outputs": [
    {
     "data": {
      "text/plain": [
       "[(u'Jane', 2),\n",
       " (u'Jane', 1),\n",
       " (u'Pete', 20),\n",
       " (u'Tyler', 3),\n",
       " (u'Duncan', 4),\n",
       " (u'Yuki', 5),\n",
       " (u'Duncan', 6),\n",
       " (u'Duncan', 4),\n",
       " (u'Duncan', 5)]"
      ]
     },
     "execution_count": 33,
     "metadata": {},
     "output_type": "execute_result"
    }
   ],
   "source": [
    "file_rdd\\\n",
    "    .map(lambda x: (json.loads(x).keys()[0], int(json.loads(x).values()[0]) ))\\\n",
    "    .collect()"
   ]
  },
  {
   "cell_type": "code",
   "execution_count": 35,
   "metadata": {
    "collapsed": false
   },
   "outputs": [
    {
     "data": {
      "text/plain": [
       "[(u'Pete', 20), (u'Duncan', 6)]"
      ]
     },
     "execution_count": 35,
     "metadata": {},
     "output_type": "execute_result"
    }
   ],
   "source": [
    "file_rdd\\\n",
    "    .map(lambda x: (json.loads(x).keys()[0], int(json.loads(x).values()[0]) ))\\\n",
    "    .filter(lambda i: i[1] > 5)\\\n",
    "    .collect()"
   ]
  },
  {
   "cell_type": "code",
   "execution_count": 51,
   "metadata": {
    "collapsed": false
   },
   "outputs": [
    {
     "data": {
      "text/plain": [
       "[(u'Pete', 20), (u'Duncan', 19), (u'Yuki', 5), (u'Jane', 3), (u'Tyler', 3)]"
      ]
     },
     "execution_count": 51,
     "metadata": {},
     "output_type": "execute_result"
    }
   ],
   "source": [
    "file_rdd\\\n",
    "    .map(lambda x: (json.loads(x).keys()[0], int(json.loads(x).values()[0]) ))\\\n",
    "    .reduceByKey(lambda amount1, amount2: amount1+amount2)\\\n",
    "    .sortBy(lambda (name, cookie_count): cookie_count, ascending=False)\\\n",
    "    .collect()"
   ]
  },
  {
   "cell_type": "code",
   "execution_count": 53,
   "metadata": {
    "collapsed": false
   },
   "outputs": [
    {
     "data": {
      "text/plain": [
       "[(u'Jane', 2), (u'Pete', 20), (u'Yuki', 5), (u'Tyler', 3), (u'Duncan', 6)]"
      ]
     },
     "execution_count": 53,
     "metadata": {},
     "output_type": "execute_result"
    }
   ],
   "source": [
    "file_rdd\\\n",
    "    .map(lambda x: (json.loads(x).keys()[0], int(json.loads(x).values()[0]) ))\\\n",
    "    .reduceByKey(lambda amount1, amount2: max(amount1, amount2))\\\n",
    "    .collect()"
   ]
  },
  {
   "cell_type": "code",
   "execution_count": 57,
   "metadata": {
    "collapsed": false
   },
   "outputs": [
    {
     "data": {
      "text/plain": [
       "50"
      ]
     },
     "execution_count": 57,
     "metadata": {},
     "output_type": "execute_result"
    }
   ],
   "source": [
    "file_rdd\\\n",
    "    .map(lambda x: (json.loads(x).keys()[0], int(json.loads(x).values()[0]) ))\\\n",
    "    .values()\\\n",
    "    .reduce(lambda amount1, amount2: amount1+amount2)"
   ]
  },
  {
   "cell_type": "code",
   "execution_count": 58,
   "metadata": {
    "collapsed": false
   },
   "outputs": [
    {
     "name": "stdout",
     "output_type": "stream",
     "text": [
      "CPU times: user 8.57 ms, sys: 12.8 ms, total: 21.4 ms\n",
      "Wall time: 1.26 s\n"
     ]
    },
    {
     "data": {
      "text/plain": [
       "10000000"
      ]
     },
     "execution_count": 58,
     "metadata": {},
     "output_type": "execute_result"
    }
   ],
   "source": [
    "max = 10000000\n",
    "%time sc.parallelize(xrange(max)).map(lambda x:x+1).count()"
   ]
  },
  {
   "cell_type": "code",
   "execution_count": null,
   "metadata": {
    "collapsed": true
   },
   "outputs": [],
   "source": []
  }
 ],
 "metadata": {
  "kernelspec": {
   "display_name": "Python 2",
   "language": "python",
   "name": "python2"
  },
  "language_info": {
   "codemirror_mode": {
    "name": "ipython",
    "version": 2
   },
   "file_extension": ".py",
   "mimetype": "text/x-python",
   "name": "python",
   "nbconvert_exporter": "python",
   "pygments_lexer": "ipython2",
   "version": "2.7.11"
  }
 },
 "nbformat": 4,
 "nbformat_minor": 0
}
